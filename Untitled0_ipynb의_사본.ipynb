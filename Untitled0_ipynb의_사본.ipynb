{
  "nbformat": 4,
  "nbformat_minor": 0,
  "metadata": {
    "colab": {
      "name": "Untitled0.ipynb의 사본",
      "provenance": [],
      "collapsed_sections": [],
      "authorship_tag": "ABX9TyOEDxoU8wWvfUTPBGZEbhhJ",
      "include_colab_link": true
    },
    "kernelspec": {
      "name": "python3",
      "display_name": "Python 3"
    }
  },
  "cells": [
    {
      "cell_type": "markdown",
      "metadata": {
        "id": "view-in-github",
        "colab_type": "text"
      },
      "source": [
        "<a href=\"https://colab.research.google.com/github/sonigay/qna/blob/master/Untitled0_ipynb%EC%9D%98_%EC%82%AC%EB%B3%B8.ipynb\" target=\"_parent\"><img src=\"https://colab.research.google.com/assets/colab-badge.svg\" alt=\"Open In Colab\"/></a>"
      ]
    },
    {
      "cell_type": "code",
      "metadata": {
        "id": "WuPSEIFltF42",
        "colab_type": "code",
        "outputId": "21525df8-ed9f-428f-af30-1f109c8b4fea",
        "colab": {
          "base_uri": "https://localhost:8080/",
          "height": 233
        }
      },
      "source": [
        "!pip install discord"
      ],
      "execution_count": 0,
      "outputs": [
        {
          "output_type": "stream",
          "text": [
            "Requirement already satisfied: discord in /usr/local/lib/python3.6/dist-packages (1.0.1)\n",
            "Requirement already satisfied: discord.py>=1.0.1 in /usr/local/lib/python3.6/dist-packages (from discord) (1.3.1)\n",
            "Requirement already satisfied: aiohttp<3.7.0,>=3.6.0 in /usr/local/lib/python3.6/dist-packages (from discord.py>=1.0.1->discord) (3.6.2)\n",
            "Requirement already satisfied: websockets!=7.0,!=8.0,!=8.0.1,<9.0,>=6.0 in /usr/local/lib/python3.6/dist-packages (from discord.py>=1.0.1->discord) (8.1)\n",
            "Requirement already satisfied: idna-ssl>=1.0; python_version < \"3.7\" in /usr/local/lib/python3.6/dist-packages (from aiohttp<3.7.0,>=3.6.0->discord.py>=1.0.1->discord) (1.1.0)\n",
            "Requirement already satisfied: chardet<4.0,>=2.0 in /usr/local/lib/python3.6/dist-packages (from aiohttp<3.7.0,>=3.6.0->discord.py>=1.0.1->discord) (3.0.4)\n",
            "Requirement already satisfied: yarl<2.0,>=1.0 in /usr/local/lib/python3.6/dist-packages (from aiohttp<3.7.0,>=3.6.0->discord.py>=1.0.1->discord) (1.4.2)\n",
            "Requirement already satisfied: multidict<5.0,>=4.5 in /usr/local/lib/python3.6/dist-packages (from aiohttp<3.7.0,>=3.6.0->discord.py>=1.0.1->discord) (4.7.4)\n",
            "Requirement already satisfied: async-timeout<4.0,>=3.0 in /usr/local/lib/python3.6/dist-packages (from aiohttp<3.7.0,>=3.6.0->discord.py>=1.0.1->discord) (3.0.1)\n",
            "Requirement already satisfied: typing-extensions>=3.6.5; python_version < \"3.7\" in /usr/local/lib/python3.6/dist-packages (from aiohttp<3.7.0,>=3.6.0->discord.py>=1.0.1->discord) (3.6.6)\n",
            "Requirement already satisfied: attrs>=17.3.0 in /usr/local/lib/python3.6/dist-packages (from aiohttp<3.7.0,>=3.6.0->discord.py>=1.0.1->discord) (19.3.0)\n",
            "Requirement already satisfied: idna>=2.0 in /usr/local/lib/python3.6/dist-packages (from idna-ssl>=1.0; python_version < \"3.7\"->aiohttp<3.7.0,>=3.6.0->discord.py>=1.0.1->discord) (2.8)\n"
          ],
          "name": "stdout"
        }
      ]
    },
    {
      "cell_type": "code",
      "metadata": {
        "id": "4rM3o0uPxTxg",
        "colab_type": "code",
        "outputId": "eebf0b9b-b06f-4263-ef88-d41f067d8f5a",
        "colab": {
          "base_uri": "https://localhost:8080/",
          "height": 35
        }
      },
      "source": [
        "import os\n",
        "import warnings\n",
        "from gensim.models import doc2vec\n",
        "from gensim.models.doc2vec import TaggedDocument\n",
        "import discord\n",
        "import asyncio\n",
        "from google.colab import drive\n",
        "import pandas as pd\n",
        "\n",
        "drive.mount('/content/drive/')\n",
        "df_faq = pd.read_csv(os.path.join('data', '/content/drive/My Drive/test.csv'), encoding='CP949')"
      ],
      "execution_count": 0,
      "outputs": [
        {
          "output_type": "stream",
          "text": [
            "Drive already mounted at /content/drive/; to attempt to forcibly remount, call drive.mount(\"/content/drive/\", force_remount=True).\n"
          ],
          "name": "stdout"
        }
      ]
    },
    {
      "cell_type": "code",
      "metadata": {
        "id": "PGf7Ezfd41l8",
        "colab_type": "code",
        "colab": {}
      },
      "source": [
        "import jpype\n",
        "from konlpy.tag import Kkma"
      ],
      "execution_count": 0,
      "outputs": []
    },
    {
      "cell_type": "code",
      "metadata": {
        "id": "zaacDhnQ-_eK",
        "colab_type": "code",
        "outputId": "11a00654-c37d-4ff5-c914-9f89e2b910f5",
        "colab": {
          "base_uri": "https://localhost:8080/",
          "height": 305
        }
      },
      "source": [
        "!pip install konlpy"
      ],
      "execution_count": 0,
      "outputs": [
        {
          "output_type": "stream",
          "text": [
            "Requirement already satisfied: konlpy in /usr/local/lib/python3.6/dist-packages (0.5.2)\n",
            "Requirement already satisfied: tweepy>=3.7.0 in /usr/local/lib/python3.6/dist-packages (from konlpy) (3.8.0)\n",
            "Requirement already satisfied: beautifulsoup4==4.6.0 in /usr/local/lib/python3.6/dist-packages (from konlpy) (4.6.0)\n",
            "Requirement already satisfied: numpy>=1.6 in /usr/local/lib/python3.6/dist-packages (from konlpy) (1.17.5)\n",
            "Requirement already satisfied: lxml>=4.1.0 in /usr/local/lib/python3.6/dist-packages (from konlpy) (4.2.6)\n",
            "Requirement already satisfied: JPype1>=0.7.0 in /usr/local/lib/python3.6/dist-packages (from konlpy) (0.7.1)\n",
            "Requirement already satisfied: colorama in /usr/local/lib/python3.6/dist-packages (from konlpy) (0.4.3)\n",
            "Requirement already satisfied: requests>=2.11.1 in /usr/local/lib/python3.6/dist-packages (from tweepy>=3.7.0->konlpy) (2.21.0)\n",
            "Requirement already satisfied: PySocks>=1.5.7 in /usr/local/lib/python3.6/dist-packages (from tweepy>=3.7.0->konlpy) (1.7.1)\n",
            "Requirement already satisfied: six>=1.10.0 in /usr/local/lib/python3.6/dist-packages (from tweepy>=3.7.0->konlpy) (1.12.0)\n",
            "Requirement already satisfied: requests-oauthlib>=0.7.0 in /usr/local/lib/python3.6/dist-packages (from tweepy>=3.7.0->konlpy) (1.3.0)\n",
            "Requirement already satisfied: chardet<3.1.0,>=3.0.2 in /usr/local/lib/python3.6/dist-packages (from requests>=2.11.1->tweepy>=3.7.0->konlpy) (3.0.4)\n",
            "Requirement already satisfied: idna<2.9,>=2.5 in /usr/local/lib/python3.6/dist-packages (from requests>=2.11.1->tweepy>=3.7.0->konlpy) (2.8)\n",
            "Requirement already satisfied: urllib3<1.25,>=1.21.1 in /usr/local/lib/python3.6/dist-packages (from requests>=2.11.1->tweepy>=3.7.0->konlpy) (1.24.3)\n",
            "Requirement already satisfied: certifi>=2017.4.17 in /usr/local/lib/python3.6/dist-packages (from requests>=2.11.1->tweepy>=3.7.0->konlpy) (2019.11.28)\n",
            "Requirement already satisfied: oauthlib>=3.0.0 in /usr/local/lib/python3.6/dist-packages (from requests-oauthlib>=0.7.0->tweepy>=3.7.0->konlpy) (3.1.0)\n"
          ],
          "name": "stdout"
        }
      ]
    },
    {
      "cell_type": "code",
      "metadata": {
        "id": "T4AjYMwu8fs0",
        "colab_type": "code",
        "colab": {}
      },
      "source": [
        "kkma = Kkma()\n",
        "\n",
        "noun_kkm = ['NNP', 'NNG', 'OL']\n",
        "\n",
        "def tokenize_kkma(doc):\n",
        "    jpype.attachThreadToJVM()\n",
        "    token_doc = ['/'.join(word) for word in kkma.pos(doc) if word[1] in noun_kkm ]\n",
        "    return token_doc"
      ],
      "execution_count": 0,
      "outputs": []
    },
    {
      "cell_type": "code",
      "metadata": {
        "id": "Bq3KFQOPHFM-",
        "colab_type": "code",
        "cellView": "both",
        "colab": {}
      },
      "source": [
        "#@title\n",
        "df_faq[['제목', '내용']]"
      ],
      "execution_count": 0,
      "outputs": []
    },
    {
      "cell_type": "code",
      "metadata": {
        "id": "IehyTuZO1YFV",
        "colab_type": "code",
        "colab": {}
      },
      "source": [
        "df_faq[['제목', '내용']]\n",
        "\n",
        "# [index, 형태소분석(질문), 답]\n",
        "\n",
        "pre_faqs = []\n",
        "for i in range(len(df_faq)):\n",
        "      pre_faqs.append([i, tokenize_kkma(df_faq['제목'][i]), df_faq['내용'][i]])\n",
        "\n",
        "\n",
        "   "
      ],
      "execution_count": 0,
      "outputs": []
    },
    {
      "cell_type": "code",
      "metadata": {
        "id": "jrMu2ow7Dk-g",
        "colab_type": "code",
        "colab": {}
      },
      "source": [
        "tagged_faqs = [TaggedDocument(c, [d]) for d, c, a in pre_faqs]"
      ],
      "execution_count": 0,
      "outputs": []
    },
    {
      "cell_type": "code",
      "metadata": {
        "id": "S7ljrK8SENzB",
        "colab_type": "code",
        "colab": {}
      },
      "source": [
        "tagged_faqs"
      ],
      "execution_count": 0,
      "outputs": []
    },
    {
      "cell_type": "code",
      "metadata": {
        "id": "7D_dt4FpC-8Z",
        "colab_type": "code",
        "colab": {}
      },
      "source": [
        "pre_faqs"
      ],
      "execution_count": 0,
      "outputs": []
    },
    {
      "cell_type": "code",
      "metadata": {
        "id": "4fd64FNsFNxP",
        "colab_type": "code",
        "colab": {}
      },
      "source": [
        "# make model\n",
        "    import multiprocessing\n",
        "    cores = multiprocessing.cpu_count()\n",
        "    d2v_faqs = doc2vec.Doc2Vec(\n",
        "                                    vector_size=50,\n",
        "                                    alpha=0.025,\n",
        "                                    min_alpha=0.025,\n",
        "                                    hs=1,\n",
        "                                    negative=0,\n",
        "                                    dm=1,\n",
        "                                    window=3,\n",
        "                                    dbow_words = 1,\n",
        "                                    min_count = 5,\n",
        "                                    workers = cores,\n",
        "                                    seed=0,\n",
        "                                    epochs=20\n",
        "                                    )\n",
        "    d2v_faqs.build_vocab(tagged_faqs)\n",
        "\n",
        "    # train document vectors\n",
        "    for epoch in range(50):\n",
        "        d2v_faqs.train(tagged_faqs,\n",
        "                                   total_examples = d2v_faqs.corpus_count,\n",
        "                                   epochs = d2v_faqs.epochs\n",
        "                                   )\n",
        "        d2v_faqs.alpha -= 0.0025 # decrease the learning rate\n",
        "        d2v_faqs.min_alpha = d2v_faqs.alpha # fix the learning rate, no decay"
      ],
      "execution_count": 0,
      "outputs": []
    },
    {
      "cell_type": "code",
      "metadata": {
        "id": "FRp8aytYNgdd",
        "colab_type": "code",
        "colab": {}
      },
      "source": [
        "test_string = \"전기요금을 자동이체하는 계좌에 잔액이 부족하면 어떻게 됩니까.\"\n",
        "tokened_test_string = tokenize_kkma(test_string)\n",
        "tokened_test_string"
      ],
      "execution_count": 0,
      "outputs": []
    },
    {
      "cell_type": "code",
      "metadata": {
        "id": "Y8anQSjNN_Yk",
        "colab_type": "code",
        "colab": {}
      },
      "source": [
        "test_vector = d2v_faqs.infer_vector(tokened_test_string)\n",
        "result = d2v_faqs.docvecs.most_similar([test_vector], topn=5)\n",
        "for i in range(5):\n",
        "    print(\"{}순위 {}번의 질문 [{}]\".format(i+1, result[i][0], df_faq['제목'][result[i][0]]))"
      ],
      "execution_count": 0,
      "outputs": []
    },
    {
      "cell_type": "code",
      "metadata": {
        "id": "Aabtob4RsXJX",
        "colab_type": "code",
        "colab": {}
      },
      "source": [
        ""
      ],
      "execution_count": 0,
      "outputs": []
    },
    {
      "cell_type": "code",
      "metadata": {
        "id": "Pn-6uvqqjSK-",
        "colab_type": "code",
        "colab": {}
      },
      "source": [
        "# 성능 측정\n",
        "raten = 1\n",
        "found = 0\n",
        "for i in range(len(df_faq)):\n",
        "    tstr = df_faq['제목'][i]\n",
        "    ttok = tokenize_kkma(tstr)\n",
        "    tvec = d2v_faqs.infer_vector(ttok)\n",
        "    re = d2v_faqs.docvecs.most_similar([tvec], topn = raten)\n",
        "    for j in range(raten):\n",
        "        if i == re[j][0]: found = found + 1\n",
        "\n",
        "print(\"정확도 = {} % ({}/{} )  \".format(found/len(df_faq),found, len(df_faq)))"
      ],
      "execution_count": 0,
      "outputs": []
    },
    {
      "cell_type": "code",
      "metadata": {
        "id": "ui-FTrcWxY6a",
        "colab_type": "code",
        "outputId": "917b202e-4fda-4e8e-a688-7ee6b93326b9",
        "colab": {
          "base_uri": "https://localhost:8080/",
          "height": 467
        }
      },
      "source": [
        "client = discord.Client()\n",
        "\n",
        "@client.event\n",
        "async def on_ready():\n",
        "\tprint(\"login\")\n",
        "\tprint(client.user.name)\n",
        "\tprint(client.user.id)\n",
        "\tprint(\"----------------\")\n",
        "\tawait client.change_presence(game=discord.Game(name='업무지식 안내', type=1))\n",
        " \n",
        "\n",
        "@client.event\n",
        "async def on_message(message):\n",
        "\t\n",
        "\tif message.content == '!테스트':\n",
        "\t\tawait client.send_message(message.channel, \"안녕하세요\")\n",
        "  \n",
        "client.run('')"
      ],
      "execution_count": 0,
      "outputs": [
        {
          "output_type": "stream",
          "text": [
            "login\n",
            "업무지식안내\n",
            "673068144847224852\n",
            "----------------\n"
          ],
          "name": "stdout"
        },
        {
          "output_type": "stream",
          "text": [
            "Ignoring exception in on_ready\n",
            "Traceback (most recent call last):\n",
            "  File \"/usr/local/lib/python3.6/dist-packages/discord/client.py\", line 312, in _run_event\n",
            "    await coro(*args, **kwargs)\n",
            "  File \"<ipython-input-5-96027a8fbe9a>\", line 9, in on_ready\n",
            "    await client.change_presence(game=discord.Game(name='업무지식 안내', type=1))\n",
            "TypeError: change_presence() got an unexpected keyword argument 'game'\n",
            "Ignoring exception in on_message\n",
            "Traceback (most recent call last):\n",
            "  File \"/usr/local/lib/python3.6/dist-packages/discord/client.py\", line 312, in _run_event\n",
            "    await coro(*args, **kwargs)\n",
            "  File \"<ipython-input-5-96027a8fbe9a>\", line 16, in on_message\n",
            "    await client.send_message(message.channel, \"안녕하세요\")\n",
            "AttributeError: 'Client' object has no attribute 'send_message'\n",
            "Ignoring exception in on_message\n",
            "Traceback (most recent call last):\n",
            "  File \"/usr/local/lib/python3.6/dist-packages/discord/client.py\", line 312, in _run_event\n",
            "    await coro(*args, **kwargs)\n",
            "  File \"<ipython-input-5-96027a8fbe9a>\", line 16, in on_message\n",
            "    await client.send_message(message.channel, \"안녕하세요\")\n",
            "AttributeError: 'Client' object has no attribute 'send_message'\n"
          ],
          "name": "stderr"
        }
      ]
    }
  ]
}
